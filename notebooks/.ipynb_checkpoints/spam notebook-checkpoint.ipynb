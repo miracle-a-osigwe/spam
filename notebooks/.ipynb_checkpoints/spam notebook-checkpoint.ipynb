{
 "cells": [
  {
   "cell_type": "markdown",
   "id": "5601785d",
   "metadata": {},
   "source": [
    "> # <center> SPAM DETECTION ANALYSIS"
   ]
  },
  {
   "cell_type": "code",
   "execution_count": 1,
   "id": "d1c79e55",
   "metadata": {},
   "outputs": [],
   "source": [
    "#Import libraries\n",
    "import numpy as np\n",
    "import pandas as pd\n",
    "\n",
    "# word libraries\n",
    "import re\n",
    "from nltk.corpus import stopwords\n",
    "from nltk.stem.porter import PorterStemmer\n",
    "\n",
    "# pre-processing and model libraries\n",
    "from sklearn.preprocessing import LabelEncoder\n",
    "from sklearn.feature_extraction.text import TfidfVectorizer\n",
    "from sklearn.model_selection import train_test_split\n",
    "from sklearn.preprocessing import MinMaxScaler\n",
    "from sklearn.linear_model import LogisticRegression\n",
    "from sklearn.naive_bayes import MultinomialNB\n",
    "from sklearn.svm import SVC\n",
    "from sklearn.neighbors import KNeighborsClassifier\n",
    "from sklearn.ensemble import GradientBoostingClassifier, RandomForestClassifier\n",
    "from sklearn.tree import DecisionTreeClassifier\n",
    "from lightgbm import LGBMClassifier\n",
    "from xgboost import XGBClassifier\n",
    "\n",
    "#metrics\n",
    "from sklearn.metrics import accuracy_score, confusion_matrix\n",
    "from sklearn.utils import shuffle\n",
    "\n",
    "#Save and load the model\n",
    "import joblib\n",
    "\n",
    "from warnings import filterwarnings\n",
    "filterwarnings('ignore')\n",
    "%matplotlib inline"
   ]
  },
  {
   "cell_type": "code",
   "execution_count": 2,
   "id": "e87994d6",
   "metadata": {},
   "outputs": [
    {
     "data": {
      "text/html": [
       "<div>\n",
       "<style scoped>\n",
       "    .dataframe tbody tr th:only-of-type {\n",
       "        vertical-align: middle;\n",
       "    }\n",
       "\n",
       "    .dataframe tbody tr th {\n",
       "        vertical-align: top;\n",
       "    }\n",
       "\n",
       "    .dataframe thead th {\n",
       "        text-align: right;\n",
       "    }\n",
       "</style>\n",
       "<table border=\"1\" class=\"dataframe\">\n",
       "  <thead>\n",
       "    <tr style=\"text-align: right;\">\n",
       "      <th></th>\n",
       "      <th>label</th>\n",
       "      <th>message</th>\n",
       "    </tr>\n",
       "  </thead>\n",
       "  <tbody>\n",
       "    <tr>\n",
       "      <th>0</th>\n",
       "      <td>ham</td>\n",
       "      <td>Shuhui has bought ron's present it's a swatch ...</td>\n",
       "    </tr>\n",
       "    <tr>\n",
       "      <th>1</th>\n",
       "      <td>ham</td>\n",
       "      <td>What should i eat fo lunch senor,,,</td>\n",
       "    </tr>\n",
       "    <tr>\n",
       "      <th>2</th>\n",
       "      <td>ham</td>\n",
       "      <td>Yeah it's jus rite...,,,</td>\n",
       "    </tr>\n",
       "    <tr>\n",
       "      <th>3</th>\n",
       "      <td>ham</td>\n",
       "      <td>She told to hr that he want posting in chennai...</td>\n",
       "    </tr>\n",
       "    <tr>\n",
       "      <th>4</th>\n",
       "      <td>ham</td>\n",
       "      <td>Hhahhaahahah rofl wtf nig was leonardo in your...</td>\n",
       "    </tr>\n",
       "  </tbody>\n",
       "</table>\n",
       "</div>"
      ],
      "text/plain": [
       "  label                                            message\n",
       "0   ham  Shuhui has bought ron's present it's a swatch ...\n",
       "1   ham                What should i eat fo lunch senor,,,\n",
       "2   ham                           Yeah it's jus rite...,,,\n",
       "3   ham  She told to hr that he want posting in chennai...\n",
       "4   ham  Hhahhaahahah rofl wtf nig was leonardo in your..."
      ]
     },
     "execution_count": 2,
     "metadata": {},
     "output_type": "execute_result"
    }
   ],
   "source": [
    "#Load the dataset\n",
    "data = pd.read_csv(\"../data/main_data.csv\", encoding=\"latin_1\")\n",
    "data2 = pd.read_csv(\"../data/spam.csv\", encoding=\"latin_1\")\n",
    "data.head()"
   ]
  },
  {
   "cell_type": "code",
   "execution_count": 3,
   "id": "de94da32",
   "metadata": {},
   "outputs": [
    {
     "data": {
      "text/html": [
       "<div>\n",
       "<style scoped>\n",
       "    .dataframe tbody tr th:only-of-type {\n",
       "        vertical-align: middle;\n",
       "    }\n",
       "\n",
       "    .dataframe tbody tr th {\n",
       "        vertical-align: top;\n",
       "    }\n",
       "\n",
       "    .dataframe thead th {\n",
       "        text-align: right;\n",
       "    }\n",
       "</style>\n",
       "<table border=\"1\" class=\"dataframe\">\n",
       "  <thead>\n",
       "    <tr style=\"text-align: right;\">\n",
       "      <th></th>\n",
       "      <th>v1</th>\n",
       "      <th>v2</th>\n",
       "    </tr>\n",
       "  </thead>\n",
       "  <tbody>\n",
       "    <tr>\n",
       "      <th>0</th>\n",
       "      <td>ham</td>\n",
       "      <td>Go until jurong point, crazy.. Available only ...</td>\n",
       "    </tr>\n",
       "    <tr>\n",
       "      <th>1</th>\n",
       "      <td>ham</td>\n",
       "      <td>Ok lar... Joking wif u oni...,,,</td>\n",
       "    </tr>\n",
       "    <tr>\n",
       "      <th>2</th>\n",
       "      <td>spam</td>\n",
       "      <td>Free entry in 2 a wkly comp to win FA Cup fina...</td>\n",
       "    </tr>\n",
       "    <tr>\n",
       "      <th>3</th>\n",
       "      <td>ham</td>\n",
       "      <td>U dun say so early hor... U c already then say...</td>\n",
       "    </tr>\n",
       "    <tr>\n",
       "      <th>4</th>\n",
       "      <td>ham</td>\n",
       "      <td>Nah I don't think he goes to usf, he lives aro...</td>\n",
       "    </tr>\n",
       "  </tbody>\n",
       "</table>\n",
       "</div>"
      ],
      "text/plain": [
       "     v1                                                 v2\n",
       "0   ham  Go until jurong point, crazy.. Available only ...\n",
       "1   ham                   Ok lar... Joking wif u oni...,,,\n",
       "2  spam  Free entry in 2 a wkly comp to win FA Cup fina...\n",
       "3   ham  U dun say so early hor... U c already then say...\n",
       "4   ham  Nah I don't think he goes to usf, he lives aro..."
      ]
     },
     "execution_count": 3,
     "metadata": {},
     "output_type": "execute_result"
    }
   ],
   "source": [
    "data2.head()"
   ]
  },
  {
   "cell_type": "code",
   "execution_count": 4,
   "id": "7df35cd9",
   "metadata": {},
   "outputs": [
    {
     "data": {
      "text/html": [
       "<div>\n",
       "<style scoped>\n",
       "    .dataframe tbody tr th:only-of-type {\n",
       "        vertical-align: middle;\n",
       "    }\n",
       "\n",
       "    .dataframe tbody tr th {\n",
       "        vertical-align: top;\n",
       "    }\n",
       "\n",
       "    .dataframe thead th {\n",
       "        text-align: right;\n",
       "    }\n",
       "</style>\n",
       "<table border=\"1\" class=\"dataframe\">\n",
       "  <thead>\n",
       "    <tr style=\"text-align: right;\">\n",
       "      <th></th>\n",
       "      <th>label</th>\n",
       "      <th>message</th>\n",
       "    </tr>\n",
       "  </thead>\n",
       "  <tbody>\n",
       "    <tr>\n",
       "      <th>0</th>\n",
       "      <td>ham</td>\n",
       "      <td>Go until jurong point, crazy.. Available only ...</td>\n",
       "    </tr>\n",
       "    <tr>\n",
       "      <th>1</th>\n",
       "      <td>ham</td>\n",
       "      <td>Ok lar... Joking wif u oni...,,,</td>\n",
       "    </tr>\n",
       "    <tr>\n",
       "      <th>2</th>\n",
       "      <td>spam</td>\n",
       "      <td>Free entry in 2 a wkly comp to win FA Cup fina...</td>\n",
       "    </tr>\n",
       "    <tr>\n",
       "      <th>3</th>\n",
       "      <td>ham</td>\n",
       "      <td>U dun say so early hor... U c already then say...</td>\n",
       "    </tr>\n",
       "    <tr>\n",
       "      <th>4</th>\n",
       "      <td>ham</td>\n",
       "      <td>Nah I don't think he goes to usf, he lives aro...</td>\n",
       "    </tr>\n",
       "  </tbody>\n",
       "</table>\n",
       "</div>"
      ],
      "text/plain": [
       "  label                                            message\n",
       "0   ham  Go until jurong point, crazy.. Available only ...\n",
       "1   ham                   Ok lar... Joking wif u oni...,,,\n",
       "2  spam  Free entry in 2 a wkly comp to win FA Cup fina...\n",
       "3   ham  U dun say so early hor... U c already then say...\n",
       "4   ham  Nah I don't think he goes to usf, he lives aro..."
      ]
     },
     "execution_count": 4,
     "metadata": {},
     "output_type": "execute_result"
    }
   ],
   "source": [
    "data2.rename(columns={'v1':'label','v2':'message'},inplace=True)\n",
    "data2.head()"
   ]
  },
  {
   "cell_type": "code",
   "execution_count": 5,
   "id": "e6c7e5c5",
   "metadata": {},
   "outputs": [],
   "source": [
    "#Concatenate the data and shuffle\n",
    "df = pd.concat([data, data2], ignore_index=True, sort=False)"
   ]
  },
  {
   "cell_type": "code",
   "execution_count": 6,
   "id": "1cf8253a",
   "metadata": {},
   "outputs": [
    {
     "name": "stdout",
     "output_type": "stream",
     "text": [
      "<class 'pandas.core.frame.DataFrame'>\n",
      "RangeIndex: 11174 entries, 0 to 11173\n",
      "Data columns (total 2 columns):\n",
      " #   Column   Non-Null Count  Dtype \n",
      "---  ------   --------------  ----- \n",
      " 0   label    11174 non-null  object\n",
      " 1   message  11174 non-null  object\n",
      "dtypes: object(2)\n",
      "memory usage: 174.7+ KB\n"
     ]
    }
   ],
   "source": [
    "df.info()"
   ]
  },
  {
   "cell_type": "markdown",
   "id": "7d791fa0",
   "metadata": {},
   "source": [
    "## <center> DATA PREPROCESSING </center>"
   ]
  },
  {
   "cell_type": "markdown",
   "id": "f5a0be8e",
   "metadata": {},
   "source": [
    "> The method i intend using is as follows\n",
    "1. Shuffle the data\n",
    "2. preprocess the data using nltk porter stemmer function and remove stop words\n",
    "3. Encode the labels\n",
    "4. Split the data and then vectorize the text"
   ]
  },
  {
   "cell_type": "code",
   "execution_count": 7,
   "id": "ad518d9b",
   "metadata": {},
   "outputs": [],
   "source": [
    "#Shuffle the data\n",
    "df = shuffle(df, random_state=41).reset_index(drop=True)"
   ]
  },
  {
   "cell_type": "code",
   "execution_count": 8,
   "id": "8ca2f657",
   "metadata": {},
   "outputs": [],
   "source": [
    "# Function to use for the dataframes\n",
    "stem = PorterStemmer() #text stemming\n",
    "stopwordSet = set(stopwords.words('english')) #create a set of the stopwords\n",
    "\n",
    "def preprocess(text):\n",
    "    data = text\n",
    "    for i in range(len(data)):\n",
    "        message = data[i].lower() #using reqular expression to clean the text\n",
    "        message = message.split() #split the words\n",
    "        message = [stem.stem(word) for word in message if not word in stopwordSet]# stem each word not found in the stopword set\n",
    "        data[i] = ' '.join(message) #join the data\n",
    "    return data #return the data"
   ]
  },
  {
   "cell_type": "code",
   "execution_count": 9,
   "id": "f7da0d4f",
   "metadata": {},
   "outputs": [],
   "source": [
    "# will preprocess df2 and clean df and replace it. then replace them with the outcome\n",
    "df['message'] = preprocess(df['message'])"
   ]
  },
  {
   "cell_type": "code",
   "execution_count": 10,
   "id": "c4197948",
   "metadata": {},
   "outputs": [
    {
     "data": {
      "text/html": [
       "<div>\n",
       "<style scoped>\n",
       "    .dataframe tbody tr th:only-of-type {\n",
       "        vertical-align: middle;\n",
       "    }\n",
       "\n",
       "    .dataframe tbody tr th {\n",
       "        vertical-align: top;\n",
       "    }\n",
       "\n",
       "    .dataframe thead th {\n",
       "        text-align: right;\n",
       "    }\n",
       "</style>\n",
       "<table border=\"1\" class=\"dataframe\">\n",
       "  <thead>\n",
       "    <tr style=\"text-align: right;\">\n",
       "      <th></th>\n",
       "      <th>label</th>\n",
       "      <th>message</th>\n",
       "    </tr>\n",
       "  </thead>\n",
       "  <tbody>\n",
       "    <tr>\n",
       "      <th>0</th>\n",
       "      <td>ham</td>\n",
       "      <td>let know chang next 6hrs. even appendix age ra...</td>\n",
       "    </tr>\n",
       "    <tr>\n",
       "      <th>1</th>\n",
       "      <td>ham</td>\n",
       "      <td>jesu christ bitch i'm tri give drug answer fuc...</td>\n",
       "    </tr>\n",
       "    <tr>\n",
       "      <th>2</th>\n",
       "      <td>ham</td>\n",
       "      <td>u talk about?,,,</td>\n",
       "    </tr>\n",
       "    <tr>\n",
       "      <th>3</th>\n",
       "      <td>ham</td>\n",
       "      <td>oh k...i'm watch here:),,,</td>\n",
       "    </tr>\n",
       "    <tr>\n",
       "      <th>4</th>\n",
       "      <td>ham</td>\n",
       "      <td>co lar i'm ba dao ok... 1 pm lor... u never as...</td>\n",
       "    </tr>\n",
       "  </tbody>\n",
       "</table>\n",
       "</div>"
      ],
      "text/plain": [
       "  label                                            message\n",
       "0   ham  let know chang next 6hrs. even appendix age ra...\n",
       "1   ham  jesu christ bitch i'm tri give drug answer fuc...\n",
       "2   ham                                   u talk about?,,,\n",
       "3   ham                         oh k...i'm watch here:),,,\n",
       "4   ham  co lar i'm ba dao ok... 1 pm lor... u never as..."
      ]
     },
     "execution_count": 10,
     "metadata": {},
     "output_type": "execute_result"
    }
   ],
   "source": [
    "#preview the dataframe\n",
    "df.head()"
   ]
  },
  {
   "cell_type": "markdown",
   "id": "5f7b4e6c",
   "metadata": {},
   "source": [
    "> Label encoding for the target variable (LABEL)"
   ]
  },
  {
   "cell_type": "code",
   "execution_count": 11,
   "id": "387c302a",
   "metadata": {},
   "outputs": [],
   "source": [
    "#Label encoding\n",
    "le = LabelEncoder()\n",
    "df['label'] = le.fit_transform(df['label'])"
   ]
  },
  {
   "cell_type": "markdown",
   "id": "1622cab5",
   "metadata": {},
   "source": [
    "> Use TfidfVectorizer to transform the data into what the models can understand"
   ]
  },
  {
   "cell_type": "code",
   "execution_count": 12,
   "id": "e9fcdeb3",
   "metadata": {},
   "outputs": [],
   "source": [
    "# vectorizer\n",
    "vectorizer =  TfidfVectorizer(strip_accents='unicode', use_idf=True, smooth_idf=True, sublinear_tf=1)"
   ]
  },
  {
   "cell_type": "code",
   "execution_count": 13,
   "id": "a6b7e690",
   "metadata": {},
   "outputs": [],
   "source": [
    "# Separate the columns\n",
    "X = df['message']\n",
    "y = df['label']"
   ]
  },
  {
   "cell_type": "code",
   "execution_count": 14,
   "id": "bfaff9b3",
   "metadata": {},
   "outputs": [],
   "source": [
    "#Using the first dataframe, split the data into training and testing\n",
    "X_train, X_test, y_train, y_test = train_test_split(X, y, test_size=0.3, random_state=42)"
   ]
  },
  {
   "cell_type": "code",
   "execution_count": 15,
   "id": "89a843fd",
   "metadata": {},
   "outputs": [],
   "source": [
    "#for model selection and testing\n",
    "train = vectorizer.fit_transform(X_train)\n",
    "test = vectorizer.transform(X_test)\n",
    "\n",
    "#for deployment\n",
    "deploy = vectorizer.fit_transform(X)"
   ]
  },
  {
   "cell_type": "code",
   "execution_count": 16,
   "id": "51b59aa5",
   "metadata": {},
   "outputs": [],
   "source": [
    "#Model list for testing different model performance and use the best performing model\n",
    "modelList = []\n",
    "modelList.append((\"LogisticReg\", LogisticRegression()))\n",
    "modelList.append((\"MultinomialNB\", MultinomialNB()))\n",
    "modelList.append((\"GradBoostClf\", GradientBoostingClassifier()))\n",
    "modelList.append((\"DecisionTree\", DecisionTreeClassifier()))\n",
    "modelList.append((\"RandomForest\", RandomForestClassifier()))\n",
    "modelList.append((\"KNeighbors\", KNeighborsClassifier(n_neighbors=5)))\n",
    "modelList.append((\"SVC\",  SVC()))\n",
    "modelList.append((\"XGB\", XGBClassifier()))\n",
    "modelList.append((\"LightGBM\", LGBMClassifier()))"
   ]
  },
  {
   "cell_type": "code",
   "execution_count": 17,
   "id": "25332773",
   "metadata": {},
   "outputs": [],
   "source": [
    "#Train and predict function\n",
    "def train_predict(x_train, x_test, y_train, y_test):\n",
    "    for name, classifier in modelList:\n",
    "        classifier.fit(x_train,y_train)\n",
    "        y_pred = classifier.predict(x_test)\n",
    "        print(\"{} Accuracy: {}\".format(name,accuracy_score(y_test,y_pred)))\n",
    "        print(\"confusion matrix:\\n\", confusion_matrix(y_test, y_pred))\n",
    "        print()"
   ]
  },
  {
   "cell_type": "code",
   "execution_count": 18,
   "id": "ec91fdb0",
   "metadata": {},
   "outputs": [
    {
     "name": "stdout",
     "output_type": "stream",
     "text": [
      "LogisticReg Accuracy: 0.9698777214434835\n",
      "confusion matrix:\n",
      " [[2794   10]\n",
      " [  91  458]]\n",
      "\n",
      "MultinomialNB Accuracy: 0.9791231732776617\n",
      "confusion matrix:\n",
      " [[2797    7]\n",
      " [  63  486]]\n",
      "\n",
      "GradBoostClf Accuracy: 0.9660005964807635\n",
      "confusion matrix:\n",
      " [[2793   11]\n",
      " [ 103  446]]\n",
      "\n",
      "DecisionTree Accuracy: 0.9838950193856248\n",
      "confusion matrix:\n",
      " [[2779   25]\n",
      " [  29  520]]\n",
      "\n",
      "RandomForest Accuracy: 0.9892633462570832\n",
      "confusion matrix:\n",
      " [[2801    3]\n",
      " [  33  516]]\n",
      "\n",
      "KNeighbors Accuracy: 0.8917387414255891\n",
      "confusion matrix:\n",
      " [[2804    0]\n",
      " [ 363  186]]\n",
      "\n",
      "SVC Accuracy: 0.9901580674023263\n",
      "confusion matrix:\n",
      " [[2797    7]\n",
      " [  26  523]]\n",
      "\n",
      "XGB Accuracy: 0.9806143751864003\n",
      "confusion matrix:\n",
      " [[2790   14]\n",
      " [  51  498]]\n",
      "\n",
      "LightGBM Accuracy: 0.9898598270205786\n",
      "confusion matrix:\n",
      " [[2791   13]\n",
      " [  21  528]]\n",
      "\n"
     ]
    }
   ],
   "source": [
    "#test the function\n",
    "train_predict(train, test, y_train, y_test)"
   ]
  },
  {
   "cell_type": "markdown",
   "id": "f3cd550e",
   "metadata": {},
   "source": [
    "> The best model from the accuracy and confusion matrix is the svc, so this is what will be used in the pipeline"
   ]
  },
  {
   "cell_type": "code",
   "execution_count": 19,
   "id": "549429d4",
   "metadata": {},
   "outputs": [
    {
     "data": {
      "text/html": [
       "<style>#sk-container-id-1 {color: black;background-color: white;}#sk-container-id-1 pre{padding: 0;}#sk-container-id-1 div.sk-toggleable {background-color: white;}#sk-container-id-1 label.sk-toggleable__label {cursor: pointer;display: block;width: 100%;margin-bottom: 0;padding: 0.3em;box-sizing: border-box;text-align: center;}#sk-container-id-1 label.sk-toggleable__label-arrow:before {content: \"▸\";float: left;margin-right: 0.25em;color: #696969;}#sk-container-id-1 label.sk-toggleable__label-arrow:hover:before {color: black;}#sk-container-id-1 div.sk-estimator:hover label.sk-toggleable__label-arrow:before {color: black;}#sk-container-id-1 div.sk-toggleable__content {max-height: 0;max-width: 0;overflow: hidden;text-align: left;background-color: #f0f8ff;}#sk-container-id-1 div.sk-toggleable__content pre {margin: 0.2em;color: black;border-radius: 0.25em;background-color: #f0f8ff;}#sk-container-id-1 input.sk-toggleable__control:checked~div.sk-toggleable__content {max-height: 200px;max-width: 100%;overflow: auto;}#sk-container-id-1 input.sk-toggleable__control:checked~label.sk-toggleable__label-arrow:before {content: \"▾\";}#sk-container-id-1 div.sk-estimator input.sk-toggleable__control:checked~label.sk-toggleable__label {background-color: #d4ebff;}#sk-container-id-1 div.sk-label input.sk-toggleable__control:checked~label.sk-toggleable__label {background-color: #d4ebff;}#sk-container-id-1 input.sk-hidden--visually {border: 0;clip: rect(1px 1px 1px 1px);clip: rect(1px, 1px, 1px, 1px);height: 1px;margin: -1px;overflow: hidden;padding: 0;position: absolute;width: 1px;}#sk-container-id-1 div.sk-estimator {font-family: monospace;background-color: #f0f8ff;border: 1px dotted black;border-radius: 0.25em;box-sizing: border-box;margin-bottom: 0.5em;}#sk-container-id-1 div.sk-estimator:hover {background-color: #d4ebff;}#sk-container-id-1 div.sk-parallel-item::after {content: \"\";width: 100%;border-bottom: 1px solid gray;flex-grow: 1;}#sk-container-id-1 div.sk-label:hover label.sk-toggleable__label {background-color: #d4ebff;}#sk-container-id-1 div.sk-serial::before {content: \"\";position: absolute;border-left: 1px solid gray;box-sizing: border-box;top: 0;bottom: 0;left: 50%;z-index: 0;}#sk-container-id-1 div.sk-serial {display: flex;flex-direction: column;align-items: center;background-color: white;padding-right: 0.2em;padding-left: 0.2em;position: relative;}#sk-container-id-1 div.sk-item {position: relative;z-index: 1;}#sk-container-id-1 div.sk-parallel {display: flex;align-items: stretch;justify-content: center;background-color: white;position: relative;}#sk-container-id-1 div.sk-item::before, #sk-container-id-1 div.sk-parallel-item::before {content: \"\";position: absolute;border-left: 1px solid gray;box-sizing: border-box;top: 0;bottom: 0;left: 50%;z-index: -1;}#sk-container-id-1 div.sk-parallel-item {display: flex;flex-direction: column;z-index: 1;position: relative;background-color: white;}#sk-container-id-1 div.sk-parallel-item:first-child::after {align-self: flex-end;width: 50%;}#sk-container-id-1 div.sk-parallel-item:last-child::after {align-self: flex-start;width: 50%;}#sk-container-id-1 div.sk-parallel-item:only-child::after {width: 0;}#sk-container-id-1 div.sk-dashed-wrapped {border: 1px dashed gray;margin: 0 0.4em 0.5em 0.4em;box-sizing: border-box;padding-bottom: 0.4em;background-color: white;}#sk-container-id-1 div.sk-label label {font-family: monospace;font-weight: bold;display: inline-block;line-height: 1.2em;}#sk-container-id-1 div.sk-label-container {text-align: center;}#sk-container-id-1 div.sk-container {/* jupyter's `normalize.less` sets `[hidden] { display: none; }` but bootstrap.min.css set `[hidden] { display: none !important; }` so we also need the `!important` here to be able to override the default hidden behavior on the sphinx rendered scikit-learn.org. See: https://github.com/scikit-learn/scikit-learn/issues/21755 */display: inline-block !important;position: relative;}#sk-container-id-1 div.sk-text-repr-fallback {display: none;}</style><div id=\"sk-container-id-1\" class=\"sk-top-container\"><div class=\"sk-text-repr-fallback\"><pre>SVC(probability=True)</pre><b>In a Jupyter environment, please rerun this cell to show the HTML representation or trust the notebook. <br />On GitHub, the HTML representation is unable to render, please try loading this page with nbviewer.org.</b></div><div class=\"sk-container\" hidden><div class=\"sk-item\"><div class=\"sk-estimator sk-toggleable\"><input class=\"sk-toggleable__control sk-hidden--visually\" id=\"sk-estimator-id-1\" type=\"checkbox\" checked><label for=\"sk-estimator-id-1\" class=\"sk-toggleable__label sk-toggleable__label-arrow\">SVC</label><div class=\"sk-toggleable__content\"><pre>SVC(probability=True)</pre></div></div></div></div></div>"
      ],
      "text/plain": [
       "SVC(probability=True)"
      ]
     },
     "execution_count": 19,
     "metadata": {},
     "output_type": "execute_result"
    }
   ],
   "source": [
    "#fit in the dataset\n",
    "model = SVC(probability=True)\n",
    "\n",
    "#Using the whole dataset to train the deployment model\n",
    "model.fit(deploy, y)"
   ]
  },
  {
   "cell_type": "code",
   "execution_count": 20,
   "id": "ada891df",
   "metadata": {},
   "outputs": [
    {
     "data": {
      "text/plain": [
       "['../model/vectorizer.pkl']"
      ]
     },
     "execution_count": 20,
     "metadata": {},
     "output_type": "execute_result"
    }
   ],
   "source": [
    "# save the model\n",
    "joblib.dump(model, '../model/model.pkl')\n",
    "\n",
    "#save the vectorizer\n",
    "joblib.dump(vectorizer, '../model/vectorizer.pkl')"
   ]
  },
  {
   "cell_type": "code",
   "execution_count": 21,
   "id": "efdd422f",
   "metadata": {},
   "outputs": [],
   "source": [
    "# Prediction function\n",
    "def predictions(text):\n",
    "    model = joblib.load('../model/model.pkl')\n",
    "    vectorizer = joblib.load('../model/vectorizer.pkl')\n",
    "    vectorized_text = vectorizer.transform(text)\n",
    "    predict = model.predict(vectorized_text)\n",
    "    return predict"
   ]
  },
  {
   "cell_type": "code",
   "execution_count": 22,
   "id": "a309dfea",
   "metadata": {},
   "outputs": [
    {
     "name": "stdout",
     "output_type": "stream",
     "text": [
      "[1]\n"
     ]
    }
   ],
   "source": [
    "#test\n",
    "text = ['Dear Customer This is a confirmation that the password for your onlineAccess account has just been change If you didnt request or make this password change, Kindly copy this link bellow and PASTE on your browser http://x.co/Accesbank for security purpose.If you made this password change kindly copy this link bellow and PASTE on your browser to review your account informations http://x.co/Accesbank.Thank you for banking with us.Terms & Conditions Do Not Call Registry  Disclaimer | Multilingual Disclaimer | Code of CommitmentGroup Code of Business Conduct and Ethics,Use of Unparliamentary Language by Customers | Privacy | USA Patriot Act Certification']\n",
    "result = predictions(text)\n",
    "print(np.around(result))"
   ]
  },
  {
   "cell_type": "code",
   "execution_count": null,
   "id": "4cb7cf63",
   "metadata": {},
   "outputs": [],
   "source": []
  }
 ],
 "metadata": {
  "kernelspec": {
   "display_name": "Python 3 (ipykernel)",
   "language": "python",
   "name": "python3"
  },
  "language_info": {
   "codemirror_mode": {
    "name": "ipython",
    "version": 3
   },
   "file_extension": ".py",
   "mimetype": "text/x-python",
   "name": "python",
   "nbconvert_exporter": "python",
   "pygments_lexer": "ipython3",
   "version": "3.10.6"
  }
 },
 "nbformat": 4,
 "nbformat_minor": 5
}
