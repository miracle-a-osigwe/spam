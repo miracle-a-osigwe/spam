{
 "cells": [
  {
   "cell_type": "markdown",
   "id": "519886e8",
   "metadata": {},
   "source": [
    "> # <center> SPAM TEST SUITE </center>"
   ]
  },
  {
   "cell_type": "markdown",
   "id": "6c7ed25b",
   "metadata": {},
   "source": [
    "> To extensively test the api, i will use any of the two dataset provided below.\n"
   ]
  },
  {
   "cell_type": "code",
   "execution_count": 1,
   "id": "4bf2f09d",
   "metadata": {},
   "outputs": [],
   "source": [
    "#Import libraries\n",
    "import requests\n",
    "import pandas as pd\n",
    "from prettytable import PrettyTable\n",
    "import random"
   ]
  },
  {
   "cell_type": "code",
   "execution_count": 2,
   "id": "8990e405",
   "metadata": {},
   "outputs": [],
   "source": [
    "#Load the datasets with pandas dataframe\n",
    "df = pd.read_excel('data/FakeJobNews.xlsx')\n",
    "df2 = pd.read_excel('data/Bank Alerts.xlsx')"
   ]
  },
  {
   "cell_type": "code",
   "execution_count": 3,
   "id": "8a5f45ff",
   "metadata": {
    "scrolled": true
   },
   "outputs": [
    {
     "data": {
      "text/html": [
       "<div>\n",
       "<style scoped>\n",
       "    .dataframe tbody tr th:only-of-type {\n",
       "        vertical-align: middle;\n",
       "    }\n",
       "\n",
       "    .dataframe tbody tr th {\n",
       "        vertical-align: top;\n",
       "    }\n",
       "\n",
       "    .dataframe thead th {\n",
       "        text-align: right;\n",
       "    }\n",
       "</style>\n",
       "<table border=\"1\" class=\"dataframe\">\n",
       "  <thead>\n",
       "    <tr style=\"text-align: right;\">\n",
       "      <th></th>\n",
       "      <th>ID Number</th>\n",
       "      <th>Title of Message</th>\n",
       "      <th>Contributor</th>\n",
       "      <th>Author</th>\n",
       "      <th>Accomplice Number</th>\n",
       "      <th>Accomplice URL</th>\n",
       "      <th>Text</th>\n",
       "    </tr>\n",
       "  </thead>\n",
       "  <tbody>\n",
       "    <tr>\n",
       "      <th>0</th>\n",
       "      <td>1</td>\n",
       "      <td>Job Interview</td>\n",
       "      <td>Nairaland</td>\n",
       "      <td>NaN</td>\n",
       "      <td>NaN</td>\n",
       "      <td>NaN</td>\n",
       "      <td>Hello ADEYINKA, present your CV for interview ...</td>\n",
       "    </tr>\n",
       "    <tr>\n",
       "      <th>1</th>\n",
       "      <td>2</td>\n",
       "      <td>Job Interview</td>\n",
       "      <td>Nairaland</td>\n",
       "      <td>NaN</td>\n",
       "      <td>NaN</td>\n",
       "      <td>NaN</td>\n",
       "      <td>Edgerit Limited invites you for an interview f...</td>\n",
       "    </tr>\n",
       "    <tr>\n",
       "      <th>2</th>\n",
       "      <td>3</td>\n",
       "      <td>Job Interview</td>\n",
       "      <td>Nairaland</td>\n",
       "      <td>NaN</td>\n",
       "      <td>NaN</td>\n",
       "      <td>NaN</td>\n",
       "      <td>You are invited for an aptitude test with UBA ...</td>\n",
       "    </tr>\n",
       "    <tr>\n",
       "      <th>3</th>\n",
       "      <td>4</td>\n",
       "      <td>Job Interview</td>\n",
       "      <td>https://isthisarealjob.com</td>\n",
       "      <td>NaN</td>\n",
       "      <td>NaN</td>\n",
       "      <td>NaN</td>\n",
       "      <td>Mag consult ltd, shortlisted (you/candidate no...</td>\n",
       "    </tr>\n",
       "    <tr>\n",
       "      <th>4</th>\n",
       "      <td>5</td>\n",
       "      <td>Job Interview</td>\n",
       "      <td>https://isthisarealjob.com</td>\n",
       "      <td>NaN</td>\n",
       "      <td>NaN</td>\n",
       "      <td>NaN</td>\n",
       "      <td>This is your interview invite with MAG CONSULT...</td>\n",
       "    </tr>\n",
       "  </tbody>\n",
       "</table>\n",
       "</div>"
      ],
      "text/plain": [
       "  ID Number Title of Message                 Contributor Author  \\\n",
       "0         1    Job Interview                   Nairaland    NaN   \n",
       "1         2    Job Interview                   Nairaland    NaN   \n",
       "2         3    Job Interview                   Nairaland    NaN   \n",
       "3         4    Job Interview  https://isthisarealjob.com    NaN   \n",
       "4         5    Job Interview  https://isthisarealjob.com    NaN   \n",
       "\n",
       "  Accomplice Number Accomplice URL  \\\n",
       "0               NaN            NaN   \n",
       "1               NaN            NaN   \n",
       "2               NaN            NaN   \n",
       "3               NaN            NaN   \n",
       "4               NaN            NaN   \n",
       "\n",
       "                                                Text  \n",
       "0  Hello ADEYINKA, present your CV for interview ...  \n",
       "1  Edgerit Limited invites you for an interview f...  \n",
       "2  You are invited for an aptitude test with UBA ...  \n",
       "3  Mag consult ltd, shortlisted (you/candidate no...  \n",
       "4  This is your interview invite with MAG CONSULT...  "
      ]
     },
     "execution_count": 3,
     "metadata": {},
     "output_type": "execute_result"
    }
   ],
   "source": [
    "#preview the data\n",
    "df.head()"
   ]
  },
  {
   "cell_type": "code",
   "execution_count": 4,
   "id": "ece7051e",
   "metadata": {},
   "outputs": [
    {
     "data": {
      "text/html": [
       "<div>\n",
       "<style scoped>\n",
       "    .dataframe tbody tr th:only-of-type {\n",
       "        vertical-align: middle;\n",
       "    }\n",
       "\n",
       "    .dataframe tbody tr th {\n",
       "        vertical-align: top;\n",
       "    }\n",
       "\n",
       "    .dataframe thead th {\n",
       "        text-align: right;\n",
       "    }\n",
       "</style>\n",
       "<table border=\"1\" class=\"dataframe\">\n",
       "  <thead>\n",
       "    <tr style=\"text-align: right;\">\n",
       "      <th></th>\n",
       "      <th>ID Number</th>\n",
       "      <th>Title of Message</th>\n",
       "      <th>Contributor</th>\n",
       "      <th>Author</th>\n",
       "      <th>Accomlice Number</th>\n",
       "      <th>Accomplice URL</th>\n",
       "      <th>Text</th>\n",
       "    </tr>\n",
       "  </thead>\n",
       "  <tbody>\n",
       "    <tr>\n",
       "      <th>0</th>\n",
       "      <td>1</td>\n",
       "      <td>NaN</td>\n",
       "      <td>SMS</td>\n",
       "      <td>FirstBank</td>\n",
       "      <td>NaN</td>\n",
       "      <td>NaN</td>\n",
       "      <td>Your Acct 305XXXX533 Has Been Debited with NGN...</td>\n",
       "    </tr>\n",
       "    <tr>\n",
       "      <th>1</th>\n",
       "      <td>2</td>\n",
       "      <td>NaN</td>\n",
       "      <td>SMS</td>\n",
       "      <td>FirstBank</td>\n",
       "      <td>NaN</td>\n",
       "      <td>NaN</td>\n",
       "      <td>Your Acct 305XXXX533 Has Been Debited with NGN...</td>\n",
       "    </tr>\n",
       "    <tr>\n",
       "      <th>2</th>\n",
       "      <td>3</td>\n",
       "      <td>NaN</td>\n",
       "      <td>SMS</td>\n",
       "      <td>FirstBank</td>\n",
       "      <td>NaN</td>\n",
       "      <td>NaN</td>\n",
       "      <td>Your Acct 305XXXX533 Has Been Debited with NGN...</td>\n",
       "    </tr>\n",
       "    <tr>\n",
       "      <th>3</th>\n",
       "      <td>4</td>\n",
       "      <td>NaN</td>\n",
       "      <td>SMS</td>\n",
       "      <td>FirstBank</td>\n",
       "      <td>NaN</td>\n",
       "      <td>NaN</td>\n",
       "      <td>Your Acct 305XXXX533 Has Been Debited with NGN...</td>\n",
       "    </tr>\n",
       "    <tr>\n",
       "      <th>4</th>\n",
       "      <td>5</td>\n",
       "      <td>NaN</td>\n",
       "      <td>SMS</td>\n",
       "      <td>FirstBank</td>\n",
       "      <td>NaN</td>\n",
       "      <td>NaN</td>\n",
       "      <td>Your Acct 305XXXX533 Has Been Debited with NGN...</td>\n",
       "    </tr>\n",
       "  </tbody>\n",
       "</table>\n",
       "</div>"
      ],
      "text/plain": [
       "   ID Number  Title of Message Contributor     Author  Accomlice Number  \\\n",
       "0          1               NaN         SMS  FirstBank               NaN   \n",
       "1          2               NaN         SMS  FirstBank               NaN   \n",
       "2          3               NaN         SMS  FirstBank               NaN   \n",
       "3          4               NaN         SMS  FirstBank               NaN   \n",
       "4          5               NaN         SMS  FirstBank               NaN   \n",
       "\n",
       "  Accomplice URL                                               Text  \n",
       "0            NaN  Your Acct 305XXXX533 Has Been Debited with NGN...  \n",
       "1            NaN  Your Acct 305XXXX533 Has Been Debited with NGN...  \n",
       "2            NaN  Your Acct 305XXXX533 Has Been Debited with NGN...  \n",
       "3            NaN  Your Acct 305XXXX533 Has Been Debited with NGN...  \n",
       "4            NaN  Your Acct 305XXXX533 Has Been Debited with NGN...  "
      ]
     },
     "execution_count": 4,
     "metadata": {},
     "output_type": "execute_result"
    }
   ],
   "source": [
    "#preview the second data\n",
    "df2.head()"
   ]
  },
  {
   "cell_type": "code",
   "execution_count": 5,
   "id": "9363d181",
   "metadata": {},
   "outputs": [],
   "source": [
    "#Only interested with the text column, so i will drop only that column into the df\n",
    "df = df[\"Text\"].dropna()"
   ]
  },
  {
   "cell_type": "code",
   "execution_count": 6,
   "id": "3b86645e",
   "metadata": {},
   "outputs": [],
   "source": [
    "#Load the URL and then loop through some random 5 samples, print the text and then the result\n",
    "base_url = \"https://immense-island-47451.herokuapp.com/\"\n",
    "table = PrettyTable([\"Text\", \"Prediction\", \"Confidence level\"])\n",
    "\n",
    "for x in range(5):\n",
    "    rand = random.randint(1, df.shape[0])\n",
    "    text = df.loc[rand]\n",
    "    if text == 'nan':\n",
    "        text = ''\n",
    "    data = {\"text\" : text}\n",
    "    response = requests.get(base_url, json=data)\n",
    "    result = response.json()\n",
    "    table.add_row([text, result[\"prediction\"], result[\"confidence level\"]])"
   ]
  },
  {
   "cell_type": "code",
   "execution_count": 11,
   "id": "339d5ab6",
   "metadata": {},
   "outputs": [
    {
     "data": {
      "text/html": [
       "<table>\n",
       "    <thead>\n",
       "        <tr>\n",
       "            <th>Text</th>\n",
       "            <th>Prediction</th>\n",
       "            <th>Confidence level</th>\n",
       "        </tr>\n",
       "    </thead>\n",
       "    <tbody>\n",
       "        <tr>\n",
       "            <td>Dear Candidate,Sequel to your application, you are invited to interview for the role of a Loan Officer.Venue: Doheney Services Ltd., 55, Coker Road, Ilupeju, LagosDate: Tuesday, 10th April, 2018 Time: 10:00amKindly respond to confirm your availability.​Regards, Oyinkansola DaramolaRecruitment Analyst.+234 813 460 2626odaramola@doheneyservices.com 55, Coker Road, Ilupeju, Lagos</td>\n",
       "            <td>The text is a Spam</td>\n",
       "            <td>1.0</td>\n",
       "        </tr>\n",
       "        <tr>\n",
       "            <td>Dear Candidate,<br>We were impressed by your background, skills, experience and have just<br>been recommended to have an aptitude and interview session with the<br>Human Capital Management team of DPP- Resources.<br>Date: THURSDAY 25 OCTOBER, 2018.<br>Time: 9 am prompt<br>Venue: Number 2, Akin Osiyemi street, Opposite Sterling bank/Canon, Mr<br>Biggs B/stop, Allen Avenue, Ikeja.<br>We look forward to meeting you and having a good working relationship<br>with you in our team.<br><br></td>\n",
       "            <td>The text is a Spam</td>\n",
       "            <td>1.0</td>\n",
       "        </tr>\n",
       "        <tr>\n",
       "            <td>Dear applicant<br>Congratulations.You have been shortlisted for an oral interview in one of our consulting firm as a customer service officer.Successful candidates are always better than unsuccessful ones.<br>To aid entry into the venue,printout this email<br>Your specific entry details are as below<br>Venue:End of Adeniyi jones,last floor University Press Building,Acme Ikeja.<br>10:00AM<br>9/11/2018<br>Note:Dress corporately and be sure to come early as lateness will not be welcomed,come with your Updated Cv,a passport photograph<br>Regards<br>Career Tips</td>\n",
       "            <td>The text is a Spam</td>\n",
       "            <td>1.0</td>\n",
       "        </tr>\n",
       "        <tr>\n",
       "            <td>Sequel to your application received via our online advertorial page, your details as been screened and it interests our organization. In view of that, you have been shortlisted for an interview, it would be conducted in Two phases, Oral and Essay. Kindly find the details below. Date Tuesday, 10th April, 2018Time -8:30am promptVenue-The Zonal Office, B&amp;S Consulting Group, Suite 4A, Ogungbeye str, Off Amaraolu, Opposite Zenith Bank, Agidingbi-1st gate, Ikeja, Lagos. B&amp;S Consulting Group is a fast growing business strategy and human capacity development outfit: Provides customized solutions for the formulation and implementation of business strategiesYou are required to come with a hard copy of your Resume and 2 passport photographs. Dress appropriately and be punctual. You will be meeting with the Executive boardWe apologize for the short notice; however it is important you confirm your availability. Kindly do that by replying this email as soon as possible. For more details reach call79 on 08184429919Best RegardsFor: The Human Resource Team</td>\n",
       "            <td>The text is a Spam</td>\n",
       "            <td>1.0</td>\n",
       "        </tr>\n",
       "        <tr>\n",
       "            <td>with regards to your resume sent to us, we are pleased to recommend you for an opening in our organisation after much evaluation of your profile.You have been cordially invited to partake in the ongoing recruitment at Lead Concept. LEAD CONCEPT is a top direct fast-growing business strategy and human capacity development outfit dedicated to providing innovative business solution to her teeming clients, assists clients in creating and managing strategic relationships and alliances with other organizations, including startups to multinational companies, research institutions, and government agencies, we generate the best high-quality leads your business needs to succeed in business world globally and we have a constant flow of new leads as a result of professionalism in our field. At lead concept we have values that have always contributed to our success; take pride, we are passionate, never give up, and work as a team and it fun. Our values are reflected in everything we do, its what sets us apart. Date: Tuesday 19th June,2018 by 10am prompt. Office Address:Suit 18B Bayo Ajayi Street,Opp African Shine by Cadbury bus stop,Agindibi,Ikeja.Lagos Note:You are required to come along with an updated copy of your CV and a means of proper identification. However it is important you confirm receipt and your availability replying this email. Regards, HR ADMIN Dr. ZARA Human Resource Office-Line:08051897778</td>\n",
       "            <td>The text is a Spam</td>\n",
       "            <td>1.0</td>\n",
       "        </tr>\n",
       "    </tbody>\n",
       "</table>"
      ],
      "text/plain": [
       "+---------------------------------------------------------------------------------------------------------------------------------------------------------------------------------------------------------------------------------------------------------------------------------------------------------------------------------------------------------------------------------------------------------------------------------------------------------------------------------------------------------------------------------------------------------------------------------------------------------------------------------------------------------------------------------------------------------------------------------------------------------------------------------------------------------------------------------------------------------------------------------------------------------------------------------------------------------------------------------------------------------------------------------------------------------------------------------------------------------------------------------------------------------------------------------------------------------------------------------------------------------------------------------------------------------------------------------------------------------------------------------------------------------------------------------------------------------------------------+--------------------+------------------+\n",
       "|                                                                                                                                                                                                                                                                                                                                                                                                                                                                                                                                                                                                                                                                                                                                    Text                                                                                                                                                                                                                                                                                                                                                                                                                                                                                                                                                                                                                                                                                                                                   |     Prediction     | Confidence level |\n",
       "+---------------------------------------------------------------------------------------------------------------------------------------------------------------------------------------------------------------------------------------------------------------------------------------------------------------------------------------------------------------------------------------------------------------------------------------------------------------------------------------------------------------------------------------------------------------------------------------------------------------------------------------------------------------------------------------------------------------------------------------------------------------------------------------------------------------------------------------------------------------------------------------------------------------------------------------------------------------------------------------------------------------------------------------------------------------------------------------------------------------------------------------------------------------------------------------------------------------------------------------------------------------------------------------------------------------------------------------------------------------------------------------------------------------------------------------------------------------------------+--------------------+------------------+\n",
       "|                                                                                                                                                                                                                                                                                                                                                                                                                                                                                                                                         Dear Candidate,Sequel to your application, you are invited to interview for the role of a Loan Officer.Venue: Doheney Services Ltd., 55, Coker Road, Ilupeju, LagosDate: Tuesday, 10th April, 2018 Time: 10:00amKindly respond to confirm your availability.​Regards, Oyinkansola DaramolaRecruitment Analyst.+234 813 460 2626odaramola@doheneyservices.com 55, Coker Road, Ilupeju, Lagos                                                                                                                                                                                                                                                                                                                                                                                                                                                                                                                                        | The text is a Spam |       1.0        |\n",
       "|                                                                                                                                                                                                                                                                                                                                                                                                                                                                                                                                                                                                                                                                                                                              Dear Candidate,                                                                                                                                                                                                                                                                                                                                                                                                                                                                                                                                                                                                                                                                                                                              | The text is a Spam |       1.0        |\n",
       "|                                                                                                                                                                                                                                                                                                                                                                                                                                                                                                                                                                                                                                                                                                   We were impressed by your background, skills, experience and have just                                                                                                                                                                                                                                                                                                                                                                                                                                                                                                                                                                                                                                                                                                  |                    |                  |\n",
       "|                                                                                                                                                                                                                                                                                                                                                                                                                                                                                                                                                                                                                                                                                                    been recommended to have an aptitude and interview session with the                                                                                                                                                                                                                                                                                                                                                                                                                                                                                                                                                                                                                                                                                                    |                    |                  |\n",
       "|                                                                                                                                                                                                                                                                                                                                                                                                                                                                                                                                                                                                                                                                                                              Human Capital Management team of DPP- Resources.                                                                                                                                                                                                                                                                                                                                                                                                                                                                                                                                                                                                                                                                                                             |                    |                  |\n",
       "|                                                                                                                                                                                                                                                                                                                                                                                                                                                                                                                                                                                                                                                                                                                      Date: THURSDAY 25 OCTOBER, 2018.                                                                                                                                                                                                                                                                                                                                                                                                                                                                                                                                                                                                                                                                                                                     |                    |                  |\n",
       "|                                                                                                                                                                                                                                                                                                                                                                                                                                                                                                                                                                                                                                                                                                                             Time: 9 am prompt                                                                                                                                                                                                                                                                                                                                                                                                                                                                                                                                                                                                                                                                                                                             |                    |                  |\n",
       "|                                                                                                                                                                                                                                                                                                                                                                                                                                                                                                                                                                                                                                                                                                   Venue: Number 2, Akin Osiyemi street, Opposite Sterling bank/Canon, Mr                                                                                                                                                                                                                                                                                                                                                                                                                                                                                                                                                                                                                                                                                                  |                    |                  |\n",
       "|                                                                                                                                                                                                                                                                                                                                                                                                                                                                                                                                                                                                                                                                                                                     Biggs B/stop, Allen Avenue, Ikeja.                                                                                                                                                                                                                                                                                                                                                                                                                                                                                                                                                                                                                                                                                                                    |                    |                  |\n",
       "|                                                                                                                                                                                                                                                                                                                                                                                                                                                                                                                                                                                                                                                                                                   We look forward to meeting you and having a good working relationship                                                                                                                                                                                                                                                                                                                                                                                                                                                                                                                                                                                                                                                                                                   |                    |                  |\n",
       "|                                                                                                                                                                                                                                                                                                                                                                                                                                                                                                                                                                                                                                                                                                                           with you in our team.                                                                                                                                                                                                                                                                                                                                                                                                                                                                                                                                                                                                                                                                                                                           |                    |                  |\n",
       "|                                                                                                                                                                                                                                                                                                                                                                                                                                                                                                                                                                                                                                                                                                                                                                                                                                                                                                                                                                                                                                                                                                                                                                                                                                                                                                                                                                                                                                                                           |                    |                  |\n",
       "|                                                                                                                                                                                                                                                                                                                                                                                                                                                                                                                                                                                                                                                                                                                                                                                                                                                                                                                                                                                                                                                                                                                                                                                                                                                                                                                                                                                                                                                                           |                    |                  |\n",
       "|                                                                                                                                                                                                                                                                                                                                                                                                                                                                                                                                                                                                                                                                                                                               Dear applicant                                                                                                                                                                                                                                                                                                                                                                                                                                                                                                                                                                                                                                                                                                                              | The text is a Spam |       1.0        |\n",
       "|                                                                                                                                                                                                                                                                                                                                                                                                                                                                                                                                                                                                                                        Congratulations.You have been shortlisted for an oral interview in one of our consulting firm as a customer service officer.Successful candidates are always better than unsuccessful ones.                                                                                                                                                                                                                                                                                                                                                                                                                                                                                                                                                                                                                                        |                    |                  |\n",
       "|                                                                                                                                                                                                                                                                                                                                                                                                                                                                                                                                                                                                                                                                                                              To aid entry into the venue,printout this email                                                                                                                                                                                                                                                                                                                                                                                                                                                                                                                                                                                                                                                                                                              |                    |                  |\n",
       "|                                                                                                                                                                                                                                                                                                                                                                                                                                                                                                                                                                                                                                                                                                                  Your specific entry details are as below                                                                                                                                                                                                                                                                                                                                                                                                                                                                                                                                                                                                                                                                                                                 |                    |                  |\n",
       "|                                                                                                                                                                                                                                                                                                                                                                                                                                                                                                                                                                                                                                                                                                Venue:End of Adeniyi jones,last floor University Press Building,Acme Ikeja.                                                                                                                                                                                                                                                                                                                                                                                                                                                                                                                                                                                                                                                                                                |                    |                  |\n",
       "|                                                                                                                                                                                                                                                                                                                                                                                                                                                                                                                                                                                                                                                                                                                                  10:00AM                                                                                                                                                                                                                                                                                                                                                                                                                                                                                                                                                                                                                                                                                                                                  |                    |                  |\n",
       "|                                                                                                                                                                                                                                                                                                                                                                                                                                                                                                                                                                                                                                                                                                                                 9/11/2018                                                                                                                                                                                                                                                                                                                                                                                                                                                                                                                                                                                                                                                                                                                                 |                    |                  |\n",
       "|                                                                                                                                                                                                                                                                                                                                                                                                                                                                                                                                                                                                                                                                     Note:Dress corporately and be sure to come early as lateness will not be welcomed,come with your Updated Cv,a passport photograph                                                                                                                                                                                                                                                                                                                                                                                                                                                                                                                                                                                                                                                                     |                    |                  |\n",
       "|                                                                                                                                                                                                                                                                                                                                                                                                                                                                                                                                                                                                                                                                                                                                  Regards                                                                                                                                                                                                                                                                                                                                                                                                                                                                                                                                                                                                                                                                                                                                  |                    |                  |\n",
       "|                                                                                                                                                                                                                                                                                                                                                                                                                                                                                                                                                                                                                                                                                                                                Career Tips                                                                                                                                                                                                                                                                                                                                                                                                                                                                                                                                                                                                                                                                                                                                |                    |                  |\n",
       "|                                                                                                                                                                                      Sequel to your application received via our online advertorial page, your details as been screened and it interests our organization. In view of that, you have been shortlisted for an interview, it would be conducted in Two phases, Oral and Essay. Kindly find the details below. Date Tuesday, 10th April, 2018Time -8:30am promptVenue-The Zonal Office, B&S Consulting Group, Suite 4A, Ogungbeye str, Off Amaraolu, Opposite Zenith Bank, Agidingbi-1st gate, Ikeja, Lagos. B&S Consulting Group is a fast growing business strategy and human capacity development outfit: Provides customized solutions for the formulation and implementation of business strategiesYou are required to come with a hard copy of your Resume and 2 passport photographs. Dress appropriately and be punctual. You will be meeting with the Executive boardWe apologize for the short notice; however it is important you confirm your availability. Kindly do that by replying this email as soon as possible. For more details reach call79 on 08184429919Best RegardsFor: The Human Resource Team                                                                                                                                                                                      | The text is a Spam |       1.0        |\n",
       "| with regards to your resume sent to us, we are pleased to recommend you for an opening in our organisation after much evaluation of your profile.You have been cordially invited to partake in the ongoing recruitment at Lead Concept. LEAD CONCEPT is a top direct fast-growing business strategy and human capacity development outfit dedicated to providing innovative business solution to her teeming clients, assists clients in creating and managing strategic relationships and alliances with other organizations, including startups to multinational companies, research institutions, and government agencies, we generate the best high-quality leads your business needs to succeed in business world globally and we have a constant flow of new leads as a result of professionalism in our field. At lead concept we have values that have always contributed to our success; take pride, we are passionate, never give up, and work as a team and it fun. Our values are reflected in everything we do, its what sets us apart. Date: Tuesday 19th June,2018 by 10am prompt. Office Address:Suit 18B Bayo Ajayi Street,Opp African Shine by Cadbury bus stop,Agindibi,Ikeja.Lagos Note:You are required to come along with an updated copy of your CV and a means of proper identification. However it is important you confirm receipt and your availability replying this email. Regards, HR ADMIN Dr. ZARA Human Resource Office-Line:08051897778 | The text is a Spam |       1.0        |\n",
       "+---------------------------------------------------------------------------------------------------------------------------------------------------------------------------------------------------------------------------------------------------------------------------------------------------------------------------------------------------------------------------------------------------------------------------------------------------------------------------------------------------------------------------------------------------------------------------------------------------------------------------------------------------------------------------------------------------------------------------------------------------------------------------------------------------------------------------------------------------------------------------------------------------------------------------------------------------------------------------------------------------------------------------------------------------------------------------------------------------------------------------------------------------------------------------------------------------------------------------------------------------------------------------------------------------------------------------------------------------------------------------------------------------------------------------------------------------------------------------+--------------------+------------------+"
      ]
     },
     "execution_count": 11,
     "metadata": {},
     "output_type": "execute_result"
    }
   ],
   "source": [
    "table"
   ]
  },
  {
   "cell_type": "code",
   "execution_count": 8,
   "id": "64f11bdc",
   "metadata": {},
   "outputs": [
    {
     "data": {
      "text/plain": [
       "{'confidence level': 0.939, 'prediction': 'The text is Not a Spam'}"
      ]
     },
     "execution_count": 8,
     "metadata": {},
     "output_type": "execute_result"
    }
   ],
   "source": [
    "#import library\n",
    "import requests\n",
    "\n",
    "base_url = \"https://immense-island-47451.herokuapp.com/\"\n",
    "data = {\"text\" : \"today is a good day to code\"}\n",
    "response = requests.get(base_url, json=data)\n",
    "response.json()"
   ]
  },
  {
   "cell_type": "code",
   "execution_count": 9,
   "id": "98886db5",
   "metadata": {},
   "outputs": [
    {
     "data": {
      "text/plain": [
       "b'{\"confidence level\":0.939,\"prediction\":\"The text is Not a Spam\"}\\n'"
      ]
     },
     "execution_count": 9,
     "metadata": {},
     "output_type": "execute_result"
    }
   ],
   "source": [
    "response.content"
   ]
  },
  {
   "cell_type": "code",
   "execution_count": 10,
   "id": "2958c3e0",
   "metadata": {},
   "outputs": [
    {
     "data": {
      "text/plain": [
       "'{\"confidence level\":0.939,\"prediction\":\"The text is Not a Spam\"}\\n'"
      ]
     },
     "execution_count": 10,
     "metadata": {},
     "output_type": "execute_result"
    }
   ],
   "source": [
    "response.text"
   ]
  }
 ],
 "metadata": {
  "kernelspec": {
   "display_name": "Python 3 (ipykernel)",
   "language": "python",
   "name": "python3"
  },
  "language_info": {
   "codemirror_mode": {
    "name": "ipython",
    "version": 3
   },
   "file_extension": ".py",
   "mimetype": "text/x-python",
   "name": "python",
   "nbconvert_exporter": "python",
   "pygments_lexer": "ipython3",
   "version": "3.10.6"
  }
 },
 "nbformat": 4,
 "nbformat_minor": 5
}
