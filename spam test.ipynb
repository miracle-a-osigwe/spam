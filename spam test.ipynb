{
 "cells": [
  {
   "cell_type": "markdown",
   "id": "9b3b9e08",
   "metadata": {},
   "source": [
    "> # <center> SPAM TEST SUITE </center>"
   ]
  },
  {
   "cell_type": "code",
   "execution_count": 3,
   "id": "1d07eccb",
   "metadata": {},
   "outputs": [],
   "source": [
    "import requests\n",
    "import pandas as pd"
   ]
  },
  {
   "cell_type": "code",
   "execution_count": null,
   "id": "67cc4ddf",
   "metadata": {},
   "outputs": [],
   "source": [
    "df = pd.read_csv('')"
   ]
  },
  {
   "cell_type": "code",
   "execution_count": 2,
   "id": "39a49bf8",
   "metadata": {},
   "outputs": [
    {
     "data": {
      "text/plain": [
       "{'confidence level': 0.999, 'prediction': 'The text is Not a Spam'}"
      ]
     },
     "execution_count": 2,
     "metadata": {},
     "output_type": "execute_result"
    }
   ],
   "source": [
    "base_url = \"https://immense-island-47451.herokuapp.com/\"\n",
    "data = {\"text\" : \"this is a good day\"}\n",
    "response = requests.get(base_url, json=data)\n",
    "response.json()"
   ]
  }
 ],
 "metadata": {
  "kernelspec": {
   "display_name": "Python 3 (ipykernel)",
   "language": "python",
   "name": "python3"
  },
  "language_info": {
   "codemirror_mode": {
    "name": "ipython",
    "version": 3
   },
   "file_extension": ".py",
   "mimetype": "text/x-python",
   "name": "python",
   "nbconvert_exporter": "python",
   "pygments_lexer": "ipython3",
   "version": "3.10.6"
  }
 },
 "nbformat": 4,
 "nbformat_minor": 5
}
